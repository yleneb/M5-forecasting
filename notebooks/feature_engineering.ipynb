{
 "nbformat": 4,
 "nbformat_minor": 2,
 "metadata": {
  "language_info": {
   "name": "python",
   "codemirror_mode": {
    "name": "ipython",
    "version": 3
   },
   "version": "3.7.6-final"
  },
  "orig_nbformat": 2,
  "file_extension": ".py",
  "mimetype": "text/x-python",
  "name": "python",
  "npconvert_exporter": "python",
  "pygments_lexer": "ipython3",
  "version": 3,
  "kernelspec": {
   "name": "python3",
   "display_name": "Python 3"
  }
 },
 "cells": [
  {
   "cell_type": "markdown",
   "metadata": {},
   "source": [
    "Notebook is based on m5-baseline (harupy), which is itself based on Very fst Model (ragnar123).\n",
    "\n",
    "https://www.kaggle.com/ragnar123/very-fst-model<br>\n",
    "https://www.kaggle.com/harupy/m5-baseline"
   ]
  },
  {
   "cell_type": "markdown",
   "metadata": {},
   "source": [
    "# Imports"
   ]
  },
  {
   "cell_type": "code",
   "execution_count": 1,
   "metadata": {},
   "outputs": [],
   "source": [
    "%reload_ext autoreload\n",
    "%autoreload 2\n",
    "\n",
    "import sys\n",
    "import pathlib\n",
    "import numpy as np\n",
    "import pandas as pd\n",
    "import matplotlib.pyplot as plt\n",
    "import plotly.express as px\n",
    "import plotly.graph_objects as go\n",
    "import plotly.figure_factory as ff\n",
    "from plotly.subplots import make_subplots\n",
    "\n",
    "from sklearn.preprocessing import OneHotEncoder, StandardScaler, LabelEncoder\n",
    "from sklearn.compose import ColumnTransformer\n",
    "from sklearn.ensemble import ExtraTreesRegressor\n",
    "from sklearn.linear_model import LinearRegression\n",
    "from sklearn.metrics import mean_squared_error\n",
    "\n",
    "ROOT = pathlib.Path().absolute().parent\n",
    "RAW_DATA_PATH = ROOT / 'data' / 'raw'\n",
    "PROCESSED_DATA_PATH = ROOT / 'data' / 'processed'\n",
    "\n",
    "DAYS_PRED = 28\n",
    "\n",
    "# endure this project is in the path\n",
    "sys.path.insert(0, ROOT.absolute().as_posix())\n",
    "\n",
    "from src.data.process_data import reduce_memory_usage"
   ]
  },
  {
   "cell_type": "code",
   "execution_count": 4,
   "metadata": {},
   "outputs": [
    {
     "data": {
      "text/html": "<div>\n<style scoped>\n    .dataframe tbody tr th:only-of-type {\n        vertical-align: middle;\n    }\n\n    .dataframe tbody tr th {\n        vertical-align: top;\n    }\n\n    .dataframe thead th {\n        text-align: right;\n    }\n</style>\n<table border=\"1\" class=\"dataframe\">\n  <thead>\n    <tr style=\"text-align: right;\">\n      <th></th>\n      <th>part</th>\n      <th>id</th>\n      <th>item_id</th>\n      <th>dept_id</th>\n      <th>cat_id</th>\n      <th>store_id</th>\n      <th>state_id</th>\n      <th>d</th>\n      <th>demand</th>\n      <th>date</th>\n      <th>...</th>\n      <th>event_name_ramadan starts</th>\n      <th>event_name_stpatricksday</th>\n      <th>event_name_superbowl</th>\n      <th>event_name_thanksgiving</th>\n      <th>event_name_valentinesday</th>\n      <th>event_name_veteransday</th>\n      <th>is_weekend</th>\n      <th>event</th>\n      <th>snap</th>\n      <th>sell_price_cent</th>\n    </tr>\n  </thead>\n  <tbody>\n    <tr>\n      <th>0</th>\n      <td>train</td>\n      <td>HOBBIES_1_008_CA_1_validation</td>\n      <td>HOBBIES_1_008</td>\n      <td>HOBBIES_1</td>\n      <td>HOBBIES</td>\n      <td>CA_1</td>\n      <td>CA</td>\n      <td>d_1</td>\n      <td>12</td>\n      <td>2011-01-29</td>\n      <td>...</td>\n      <td>False</td>\n      <td>False</td>\n      <td>False</td>\n      <td>False</td>\n      <td>False</td>\n      <td>False</td>\n      <td>True</td>\n      <td>False</td>\n      <td>False</td>\n      <td>46</td>\n    </tr>\n    <tr>\n      <th>1</th>\n      <td>train</td>\n      <td>HOBBIES_1_009_CA_1_validation</td>\n      <td>HOBBIES_1_009</td>\n      <td>HOBBIES_1</td>\n      <td>HOBBIES</td>\n      <td>CA_1</td>\n      <td>CA</td>\n      <td>d_1</td>\n      <td>2</td>\n      <td>2011-01-29</td>\n      <td>...</td>\n      <td>False</td>\n      <td>False</td>\n      <td>False</td>\n      <td>False</td>\n      <td>False</td>\n      <td>False</td>\n      <td>True</td>\n      <td>False</td>\n      <td>False</td>\n      <td>156</td>\n    </tr>\n    <tr>\n      <th>2</th>\n      <td>train</td>\n      <td>HOBBIES_1_010_CA_1_validation</td>\n      <td>HOBBIES_1_010</td>\n      <td>HOBBIES_1</td>\n      <td>HOBBIES</td>\n      <td>CA_1</td>\n      <td>CA</td>\n      <td>d_1</td>\n      <td>0</td>\n      <td>2011-01-29</td>\n      <td>...</td>\n      <td>False</td>\n      <td>False</td>\n      <td>False</td>\n      <td>False</td>\n      <td>False</td>\n      <td>False</td>\n      <td>True</td>\n      <td>False</td>\n      <td>False</td>\n      <td>317</td>\n    </tr>\n    <tr>\n      <th>3</th>\n      <td>train</td>\n      <td>HOBBIES_1_012_CA_1_validation</td>\n      <td>HOBBIES_1_012</td>\n      <td>HOBBIES_1</td>\n      <td>HOBBIES</td>\n      <td>CA_1</td>\n      <td>CA</td>\n      <td>d_1</td>\n      <td>0</td>\n      <td>2011-01-29</td>\n      <td>...</td>\n      <td>False</td>\n      <td>False</td>\n      <td>False</td>\n      <td>False</td>\n      <td>False</td>\n      <td>False</td>\n      <td>True</td>\n      <td>False</td>\n      <td>False</td>\n      <td>598</td>\n    </tr>\n    <tr>\n      <th>4</th>\n      <td>train</td>\n      <td>HOBBIES_1_015_CA_1_validation</td>\n      <td>HOBBIES_1_015</td>\n      <td>HOBBIES_1</td>\n      <td>HOBBIES</td>\n      <td>CA_1</td>\n      <td>CA</td>\n      <td>d_1</td>\n      <td>4</td>\n      <td>2011-01-29</td>\n      <td>...</td>\n      <td>False</td>\n      <td>False</td>\n      <td>False</td>\n      <td>False</td>\n      <td>False</td>\n      <td>False</td>\n      <td>True</td>\n      <td>False</td>\n      <td>False</td>\n      <td>70</td>\n    </tr>\n    <tr>\n      <th>...</th>\n      <td>...</td>\n      <td>...</td>\n      <td>...</td>\n      <td>...</td>\n      <td>...</td>\n      <td>...</td>\n      <td>...</td>\n      <td>...</td>\n      <td>...</td>\n      <td>...</td>\n      <td>...</td>\n      <td>...</td>\n      <td>...</td>\n      <td>...</td>\n      <td>...</td>\n      <td>...</td>\n      <td>...</td>\n      <td>...</td>\n      <td>...</td>\n      <td>...</td>\n      <td>...</td>\n    </tr>\n    <tr>\n      <th>47735392</th>\n      <td>evaluation</td>\n      <td>FOODS_3_823_WI_3_evaluation</td>\n      <td>FOODS_3_823</td>\n      <td>FOODS_3</td>\n      <td>FOODS</td>\n      <td>WI_3</td>\n      <td>WI</td>\n      <td>d_1969</td>\n      <td>0</td>\n      <td>2016-06-19</td>\n      <td>...</td>\n      <td>False</td>\n      <td>False</td>\n      <td>False</td>\n      <td>False</td>\n      <td>False</td>\n      <td>False</td>\n      <td>True</td>\n      <td>True</td>\n      <td>False</td>\n      <td>298</td>\n    </tr>\n    <tr>\n      <th>47735393</th>\n      <td>evaluation</td>\n      <td>FOODS_3_824_WI_3_evaluation</td>\n      <td>FOODS_3_824</td>\n      <td>FOODS_3</td>\n      <td>FOODS</td>\n      <td>WI_3</td>\n      <td>WI</td>\n      <td>d_1969</td>\n      <td>0</td>\n      <td>2016-06-19</td>\n      <td>...</td>\n      <td>False</td>\n      <td>False</td>\n      <td>False</td>\n      <td>False</td>\n      <td>False</td>\n      <td>False</td>\n      <td>True</td>\n      <td>True</td>\n      <td>False</td>\n      <td>248</td>\n    </tr>\n    <tr>\n      <th>47735394</th>\n      <td>evaluation</td>\n      <td>FOODS_3_825_WI_3_evaluation</td>\n      <td>FOODS_3_825</td>\n      <td>FOODS_3</td>\n      <td>FOODS</td>\n      <td>WI_3</td>\n      <td>WI</td>\n      <td>d_1969</td>\n      <td>0</td>\n      <td>2016-06-19</td>\n      <td>...</td>\n      <td>False</td>\n      <td>False</td>\n      <td>False</td>\n      <td>False</td>\n      <td>False</td>\n      <td>False</td>\n      <td>True</td>\n      <td>True</td>\n      <td>False</td>\n      <td>398</td>\n    </tr>\n    <tr>\n      <th>47735395</th>\n      <td>evaluation</td>\n      <td>FOODS_3_826_WI_3_evaluation</td>\n      <td>FOODS_3_826</td>\n      <td>FOODS_3</td>\n      <td>FOODS</td>\n      <td>WI_3</td>\n      <td>WI</td>\n      <td>d_1969</td>\n      <td>0</td>\n      <td>2016-06-19</td>\n      <td>...</td>\n      <td>False</td>\n      <td>False</td>\n      <td>False</td>\n      <td>False</td>\n      <td>False</td>\n      <td>False</td>\n      <td>True</td>\n      <td>True</td>\n      <td>False</td>\n      <td>128</td>\n    </tr>\n    <tr>\n      <th>47735396</th>\n      <td>evaluation</td>\n      <td>FOODS_3_827_WI_3_evaluation</td>\n      <td>FOODS_3_827</td>\n      <td>FOODS_3</td>\n      <td>FOODS</td>\n      <td>WI_3</td>\n      <td>WI</td>\n      <td>d_1969</td>\n      <td>0</td>\n      <td>2016-06-19</td>\n      <td>...</td>\n      <td>False</td>\n      <td>False</td>\n      <td>False</td>\n      <td>False</td>\n      <td>False</td>\n      <td>False</td>\n      <td>True</td>\n      <td>True</td>\n      <td>False</td>\n      <td>100</td>\n    </tr>\n  </tbody>\n</table>\n<p>47735397 rows × 52 columns</p>\n</div>",
      "text/plain": "                part                             id        item_id    dept_id  \\\n0              train  HOBBIES_1_008_CA_1_validation  HOBBIES_1_008  HOBBIES_1   \n1              train  HOBBIES_1_009_CA_1_validation  HOBBIES_1_009  HOBBIES_1   \n2              train  HOBBIES_1_010_CA_1_validation  HOBBIES_1_010  HOBBIES_1   \n3              train  HOBBIES_1_012_CA_1_validation  HOBBIES_1_012  HOBBIES_1   \n4              train  HOBBIES_1_015_CA_1_validation  HOBBIES_1_015  HOBBIES_1   \n...              ...                            ...            ...        ...   \n47735392  evaluation    FOODS_3_823_WI_3_evaluation    FOODS_3_823    FOODS_3   \n47735393  evaluation    FOODS_3_824_WI_3_evaluation    FOODS_3_824    FOODS_3   \n47735394  evaluation    FOODS_3_825_WI_3_evaluation    FOODS_3_825    FOODS_3   \n47735395  evaluation    FOODS_3_826_WI_3_evaluation    FOODS_3_826    FOODS_3   \n47735396  evaluation    FOODS_3_827_WI_3_evaluation    FOODS_3_827    FOODS_3   \n\n           cat_id store_id state_id       d  demand       date  ...  \\\n0         HOBBIES     CA_1       CA     d_1      12 2011-01-29  ...   \n1         HOBBIES     CA_1       CA     d_1       2 2011-01-29  ...   \n2         HOBBIES     CA_1       CA     d_1       0 2011-01-29  ...   \n3         HOBBIES     CA_1       CA     d_1       0 2011-01-29  ...   \n4         HOBBIES     CA_1       CA     d_1       4 2011-01-29  ...   \n...           ...      ...      ...     ...     ...        ...  ...   \n47735392    FOODS     WI_3       WI  d_1969       0 2016-06-19  ...   \n47735393    FOODS     WI_3       WI  d_1969       0 2016-06-19  ...   \n47735394    FOODS     WI_3       WI  d_1969       0 2016-06-19  ...   \n47735395    FOODS     WI_3       WI  d_1969       0 2016-06-19  ...   \n47735396    FOODS     WI_3       WI  d_1969       0 2016-06-19  ...   \n\n         event_name_ramadan starts event_name_stpatricksday  \\\n0                            False                    False   \n1                            False                    False   \n2                            False                    False   \n3                            False                    False   \n4                            False                    False   \n...                            ...                      ...   \n47735392                     False                    False   \n47735393                     False                    False   \n47735394                     False                    False   \n47735395                     False                    False   \n47735396                     False                    False   \n\n         event_name_superbowl event_name_thanksgiving  \\\n0                       False                   False   \n1                       False                   False   \n2                       False                   False   \n3                       False                   False   \n4                       False                   False   \n...                       ...                     ...   \n47735392                False                   False   \n47735393                False                   False   \n47735394                False                   False   \n47735395                False                   False   \n47735396                False                   False   \n\n          event_name_valentinesday  event_name_veteransday  is_weekend  event  \\\n0                            False                   False        True  False   \n1                            False                   False        True  False   \n2                            False                   False        True  False   \n3                            False                   False        True  False   \n4                            False                   False        True  False   \n...                            ...                     ...         ...    ...   \n47735392                     False                   False        True   True   \n47735393                     False                   False        True   True   \n47735394                     False                   False        True   True   \n47735395                     False                   False        True   True   \n47735396                     False                   False        True   True   \n\n           snap  sell_price_cent  \n0         False               46  \n1         False              156  \n2         False              317  \n3         False              598  \n4         False               70  \n...         ...              ...  \n47735392  False              298  \n47735393  False              248  \n47735394  False              398  \n47735395  False              128  \n47735396  False              100  \n\n[47735397 rows x 52 columns]"
     },
     "execution_count": 4,
     "metadata": {},
     "output_type": "execute_result"
    }
   ],
   "source": [
    "df = \\\n",
    "(pd.read_parquet(PROCESSED_DATA_PATH / 'combined_dataset.parquet')\n",
    ".astype({c:'category' for c in ['wday','month','year']}))\n",
    "\n",
    "df"
   ]
  },
  {
   "cell_type": "code",
   "execution_count": null,
   "metadata": {},
   "outputs": [],
   "source": []
  }
 ]
}