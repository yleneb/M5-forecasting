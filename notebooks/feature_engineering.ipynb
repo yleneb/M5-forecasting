{
 "nbformat": 4,
 "nbformat_minor": 2,
 "metadata": {
  "language_info": {
   "name": "python",
   "codemirror_mode": {
    "name": "ipython",
    "version": 3
   },
   "version": "3.7.6-final"
  },
  "orig_nbformat": 2,
  "file_extension": ".py",
  "mimetype": "text/x-python",
  "name": "python",
  "npconvert_exporter": "python",
  "pygments_lexer": "ipython3",
  "version": 3,
  "kernelspec": {
   "name": "python3",
   "display_name": "Python 3"
  }
 },
 "cells": [
  {
   "cell_type": "markdown",
   "metadata": {},
   "source": [
    "Notebook is based on m5-baseline (harupy), which is itself based on Very fst Model (ragnar123).\n",
    "\n",
    "https://www.kaggle.com/ragnar123/very-fst-model<br>\n",
    "https://www.kaggle.com/harupy/m5-baseline"
   ]
  },
  {
   "cell_type": "markdown",
   "metadata": {},
   "source": [
    "# Imports"
   ]
  },
  {
   "cell_type": "code",
   "execution_count": 1,
   "metadata": {},
   "outputs": [],
   "source": [
    "%reload_ext autoreload\n",
    "%autoreload 2\n",
    "\n",
    "import sys\n",
    "import pathlib\n",
    "import numpy as np\n",
    "import pandas as pd\n",
    "import matplotlib.pyplot as plt\n",
    "import plotly.express as px\n",
    "import plotly.graph_objects as go\n",
    "import plotly.figure_factory as ff\n",
    "from plotly.subplots import make_subplots\n",
    "\n",
    "from sklearn.preprocessing import OneHotEncoder, StandardScaler, LabelEncoder\n",
    "from sklearn.compose import ColumnTransformer\n",
    "from sklearn.ensemble import ExtraTreesRegressor\n",
    "from sklearn.linear_model import LinearRegression\n",
    "from sklearn.metrics import mean_squared_error\n",
    "\n",
    "ROOT = pathlib.Path().absolute().parent\n",
    "RAW_DATA_PATH = ROOT / 'data' / 'raw'\n",
    "PROCESSED_DATA_PATH = ROOT / 'data' / 'processed'\n",
    "\n",
    "DAYS_PRED = 28\n",
    "\n",
    "# endure this project is in the path\n",
    "sys.path.insert(0, ROOT.absolute().as_posix())\n",
    "\n",
    "from src.data.process_data import reduce_memory_usage"
   ]
  },
  {
   "cell_type": "code",
   "execution_count": 4,
   "metadata": {},
   "outputs": [
    {
     "output_type": "stream",
     "name": "stdout",
     "text": "<class 'pandas.core.frame.DataFrame'>\nRangeIndex: 47735397 entries, 0 to 47735396\nData columns (total 52 columns):\n #   Column                          Dtype         \n---  ------                          -----         \n 0   part                            category      \n 1   id                              category      \n 2   item_id                         category      \n 3   dept_id                         category      \n 4   cat_id                          category      \n 5   store_id                        category      \n 6   state_id                        category      \n 7   d                               category      \n 8   demand                          uint16        \n 9   date                            datetime64[ns]\n 10  weekday                         category      \n 11  wday                            category      \n 12  month                           category      \n 13  year                            category      \n 14  event_type_cultural             bool          \n 15  event_type_national             bool          \n 16  event_type_religious            bool          \n 17  event_type_sporting             bool          \n 18  event_name_chanukah end         bool          \n 19  event_name_christmas            bool          \n 20  event_name_cinco de mayo        bool          \n 21  event_name_columbusday          bool          \n 22  event_name_easter               bool          \n 23  event_name_eid al-fitr          bool          \n 24  event_name_eidaladha            bool          \n 25  event_name_father's day         bool          \n 26  event_name_halloween            bool          \n 27  event_name_independenceday      bool          \n 28  event_name_laborday             bool          \n 29  event_name_lentstart            bool          \n 30  event_name_lentweek2            bool          \n 31  event_name_martinlutherkingday  bool          \n 32  event_name_memorialday          bool          \n 33  event_name_mother's day         bool          \n 34  event_name_nbafinalsend         bool          \n 35  event_name_nbafinalsstart       bool          \n 36  event_name_newyear              bool          \n 37  event_name_orthodoxchristmas    bool          \n 38  event_name_orthodoxeaster       bool          \n 39  event_name_pesach end           bool          \n 40  event_name_presidentsday        bool          \n 41  event_name_purim end            bool          \n 42  event_name_ramadan starts       bool          \n 43  event_name_stpatricksday        bool          \n 44  event_name_superbowl            bool          \n 45  event_name_thanksgiving         bool          \n 46  event_name_valentinesday        bool          \n 47  event_name_veteransday          bool          \n 48  is_weekend                      bool          \n 49  event                           bool          \n 50  snap                            bool          \n 51  sell_price_cent                 uint16        \ndtypes: bool(37), category(12), datetime64[ns](1), uint16(2)\nmemory usage: 2.9 GB\n"
    }
   ],
   "source": [
    "df = \\\n",
    " d.read_parquet(PROCESSED_DATA_PATH / 'combined_dataset.parquet').\n",
    "astype({c:'category' for c in ['wday','month','year']}))\n",
    "\n",
    "df.info()"
   ]
  },
  {
   "cell_type": "code",
   "execution_count": 5,
   "metadata": {},
   "outputs": [
    {
     "output_type": "execute_result",
     "data": {
      "text/plain": "                                                    snap   events            \\\n                                                    snap     type             \n                                                    snap sporting religious   \nstate_id store_id date       year month weekday                               \nCA       CA_1     2011-01-29 2011 1     Saturday   False    False     False   \n                  2011-01-30 2011 1     Sunday     False    False     False   \n                  2011-01-31 2011 1     Monday     False    False     False   \n                  2011-02-01 2011 2     Tuesday     True    False     False   \n                  2011-02-02 2011 2     Wednesday   True    False     False   \n...                                                  ...      ...       ...   \n                  2016-06-15 2016 6     Wednesday  False    False     False   \n                  2016-06-16 2016 6     Thursday   False    False     False   \n                  2016-06-17 2016 6     Friday     False    False     False   \n                  2016-06-18 2016 6     Saturday   False    False     False   \n                  2016-06-19 2016 6     Sunday     False     True     False   \n\n                                                                     \\\n                                                                      \n                                                  national cultural   \nstate_id store_id date       year month weekday                       \nCA       CA_1     2011-01-29 2011 1     Saturday     False    False   \n                  2011-01-30 2011 1     Sunday       False    False   \n                  2011-01-31 2011 1     Monday       False    False   \n                  2011-02-01 2011 2     Tuesday      False    False   \n                  2011-02-02 2011 2     Wednesday    False    False   \n...                                                    ...      ...   \n                  2016-06-15 2016 6     Wednesday    False    False   \n                  2016-06-16 2016 6     Thursday     False    False   \n                  2016-06-17 2016 6     Friday       False    False   \n                  2016-06-18 2016 6     Saturday     False    False   \n                  2016-06-19 2016 6     Sunday       False     True   \n\n                                                                             \\\n                                                         name                 \n                                                  veteransday valentinesday   \nstate_id store_id date       year month weekday                               \nCA       CA_1     2011-01-29 2011 1     Saturday        False         False   \n                  2011-01-30 2011 1     Sunday          False         False   \n                  2011-01-31 2011 1     Monday          False         False   \n                  2011-02-01 2011 2     Tuesday         False         False   \n                  2011-02-02 2011 2     Wednesday       False         False   \n...                                                       ...           ...   \n                  2016-06-15 2016 6     Wednesday       False         False   \n                  2016-06-16 2016 6     Thursday        False         False   \n                  2016-06-17 2016 6     Friday          False         False   \n                  2016-06-18 2016 6     Saturday        False         False   \n                  2016-06-19 2016 6     Sunday          False         False   \n\n                                                                          \\\n                                                                           \n                                                  thanksgiving superbowl   \nstate_id store_id date       year month weekday                            \nCA       CA_1     2011-01-29 2011 1     Saturday         False     False   \n                  2011-01-30 2011 1     Sunday           False     False   \n                  2011-01-31 2011 1     Monday           False     False   \n                  2011-02-01 2011 2     Tuesday          False     False   \n                  2011-02-02 2011 2     Wednesday        False     False   \n...                                                        ...       ...   \n                  2016-06-15 2016 6     Wednesday        False     False   \n                  2016-06-16 2016 6     Thursday         False     False   \n                  2016-06-17 2016 6     Friday           False     False   \n                  2016-06-18 2016 6     Saturday         False     False   \n                  2016-06-19 2016 6     Sunday           False     False   \n\n                                                                 ...  \\\n                                                                 ...   \n                                                  stpatricksday  ...   \nstate_id store_id date       year month weekday                  ...   \nCA       CA_1     2011-01-29 2011 1     Saturday          False  ...   \n                  2011-01-30 2011 1     Sunday            False  ...   \n                  2011-01-31 2011 1     Monday            False  ...   \n                  2011-02-01 2011 2     Tuesday           False  ...   \n                  2011-02-02 2011 2     Wednesday         False  ...   \n...                                                         ...  ...   \n                  2016-06-15 2016 6     Wednesday         False  ...   \n                  2016-06-16 2016 6     Thursday          False  ...   \n                  2016-06-17 2016 6     Friday            False  ...   \n                  2016-06-18 2016 6     Saturday          False  ...   \n                  2016-06-19 2016 6     Sunday            False  ...   \n\n                                                                          \\\n                                                                           \n                                                  halloween father's day   \nstate_id store_id date       year month weekday                            \nCA       CA_1     2011-01-29 2011 1     Saturday      False        False   \n                  2011-01-30 2011 1     Sunday        False        False   \n                  2011-01-31 2011 1     Monday        False        False   \n                  2011-02-01 2011 2     Tuesday       False        False   \n                  2011-02-02 2011 2     Wednesday     False        False   \n...                                                     ...          ...   \n                  2016-06-15 2016 6     Wednesday     False        False   \n                  2016-06-16 2016 6     Thursday      False        False   \n                  2016-06-17 2016 6     Friday        False        False   \n                  2016-06-18 2016 6     Saturday      False        False   \n                  2016-06-19 2016 6     Sunday        False         True   \n\n                                                                         \\\n                                                                          \n                                                  eidaladha eid al-fitr   \nstate_id store_id date       year month weekday                           \nCA       CA_1     2011-01-29 2011 1     Saturday      False       False   \n                  2011-01-30 2011 1     Sunday        False       False   \n                  2011-01-31 2011 1     Monday        False       False   \n                  2011-02-01 2011 2     Tuesday       False       False   \n                  2011-02-02 2011 2     Wednesday     False       False   \n...                                                     ...         ...   \n                  2016-06-15 2016 6     Wednesday     False       False   \n                  2016-06-16 2016 6     Thursday      False       False   \n                  2016-06-17 2016 6     Friday        False       False   \n                  2016-06-18 2016 6     Saturday      False       False   \n                  2016-06-19 2016 6     Sunday        False       False   \n\n                                                                      \\\n                                                                       \n                                                  easter columbusday   \nstate_id store_id date       year month weekday                        \nCA       CA_1     2011-01-29 2011 1     Saturday   False       False   \n                  2011-01-30 2011 1     Sunday     False       False   \n                  2011-01-31 2011 1     Monday     False       False   \n                  2011-02-01 2011 2     Tuesday    False       False   \n                  2011-02-02 2011 2     Wednesday  False       False   \n...                                                  ...         ...   \n                  2016-06-15 2016 6     Wednesday  False       False   \n                  2016-06-16 2016 6     Thursday   False       False   \n                  2016-06-17 2016 6     Friday     False       False   \n                  2016-06-18 2016 6     Saturday   False       False   \n                  2016-06-19 2016 6     Sunday     False       False   \n\n                                                                           \\\n                                                                            \n                                                  cinco de mayo christmas   \nstate_id store_id date       year month weekday                             \nCA       CA_1     2011-01-29 2011 1     Saturday          False     False   \n                  2011-01-30 2011 1     Sunday            False     False   \n                  2011-01-31 2011 1     Monday            False     False   \n                  2011-02-01 2011 2     Tuesday           False     False   \n                  2011-02-02 2011 2     Wednesday         False     False   \n...                                                         ...       ...   \n                  2016-06-15 2016 6     Wednesday         False     False   \n                  2016-06-16 2016 6     Thursday          False     False   \n                  2016-06-17 2016 6     Friday            False     False   \n                  2016-06-18 2016 6     Saturday          False     False   \n                  2016-06-19 2016 6     Sunday            False     False   \n\n                                                                  demand  \n                                                                 HOBBIES  \n                                                  chanukah end HOBBIES_1  \nstate_id store_id date       year month weekday                           \nCA       CA_1     2011-01-29 2011 1     Saturday         False       528  \n                  2011-01-30 2011 1     Sunday           False       489  \n                  2011-01-31 2011 1     Monday           False       409  \n                  2011-02-01 2011 2     Tuesday          False       383  \n                  2011-02-02 2011 2     Wednesday        False       263  \n...                                                        ...       ...  \n                  2016-06-15 2016 6     Wednesday        False         0  \n                  2016-06-16 2016 6     Thursday         False         0  \n                  2016-06-17 2016 6     Friday           False         0  \n                  2016-06-18 2016 6     Saturday         False         0  \n                  2016-06-19 2016 6     Sunday           False         0  \n\n[1969 rows x 36 columns]",
      "text/html": "<div>\n<style scoped>\n    .dataframe tbody tr th:only-of-type {\n        vertical-align: middle;\n    }\n\n    .dataframe tbody tr th {\n        vertical-align: top;\n    }\n\n    .dataframe thead tr th {\n        text-align: left;\n    }\n\n    .dataframe thead tr:last-of-type th {\n        text-align: right;\n    }\n</style>\n<table border=\"1\" class=\"dataframe\">\n  <thead>\n    <tr>\n      <th></th>\n      <th></th>\n      <th></th>\n      <th></th>\n      <th></th>\n      <th></th>\n      <th>snap</th>\n      <th colspan=\"19\" halign=\"left\">events</th>\n      <th>demand</th>\n    </tr>\n    <tr>\n      <th></th>\n      <th></th>\n      <th></th>\n      <th></th>\n      <th></th>\n      <th></th>\n      <th>snap</th>\n      <th colspan=\"4\" halign=\"left\">type</th>\n      <th colspan=\"15\" halign=\"left\">name</th>\n      <th>HOBBIES</th>\n    </tr>\n    <tr>\n      <th></th>\n      <th></th>\n      <th></th>\n      <th></th>\n      <th></th>\n      <th></th>\n      <th>snap</th>\n      <th>sporting</th>\n      <th>religious</th>\n      <th>national</th>\n      <th>cultural</th>\n      <th>veteransday</th>\n      <th>valentinesday</th>\n      <th>thanksgiving</th>\n      <th>superbowl</th>\n      <th>stpatricksday</th>\n      <th>...</th>\n      <th>halloween</th>\n      <th>father's day</th>\n      <th>eidaladha</th>\n      <th>eid al-fitr</th>\n      <th>easter</th>\n      <th>columbusday</th>\n      <th>cinco de mayo</th>\n      <th>christmas</th>\n      <th>chanukah end</th>\n      <th>HOBBIES_1</th>\n    </tr>\n    <tr>\n      <th>state_id</th>\n      <th>store_id</th>\n      <th>date</th>\n      <th>year</th>\n      <th>month</th>\n      <th>weekday</th>\n      <th></th>\n      <th></th>\n      <th></th>\n      <th></th>\n      <th></th>\n      <th></th>\n      <th></th>\n      <th></th>\n      <th></th>\n      <th></th>\n      <th></th>\n      <th></th>\n      <th></th>\n      <th></th>\n      <th></th>\n      <th></th>\n      <th></th>\n      <th></th>\n      <th></th>\n      <th></th>\n      <th></th>\n    </tr>\n  </thead>\n  <tbody>\n    <tr>\n      <th rowspan=\"11\" valign=\"top\">CA</th>\n      <th rowspan=\"11\" valign=\"top\">CA_1</th>\n      <th>2011-01-29</th>\n      <th>2011</th>\n      <th>1</th>\n      <th>Saturday</th>\n      <td>False</td>\n      <td>False</td>\n      <td>False</td>\n      <td>False</td>\n      <td>False</td>\n      <td>False</td>\n      <td>False</td>\n      <td>False</td>\n      <td>False</td>\n      <td>False</td>\n      <td>...</td>\n      <td>False</td>\n      <td>False</td>\n      <td>False</td>\n      <td>False</td>\n      <td>False</td>\n      <td>False</td>\n      <td>False</td>\n      <td>False</td>\n      <td>False</td>\n      <td>528</td>\n    </tr>\n    <tr>\n      <th>2011-01-30</th>\n      <th>2011</th>\n      <th>1</th>\n      <th>Sunday</th>\n      <td>False</td>\n      <td>False</td>\n      <td>False</td>\n      <td>False</td>\n      <td>False</td>\n      <td>False</td>\n      <td>False</td>\n      <td>False</td>\n      <td>False</td>\n      <td>False</td>\n      <td>...</td>\n      <td>False</td>\n      <td>False</td>\n      <td>False</td>\n      <td>False</td>\n      <td>False</td>\n      <td>False</td>\n      <td>False</td>\n      <td>False</td>\n      <td>False</td>\n      <td>489</td>\n    </tr>\n    <tr>\n      <th>2011-01-31</th>\n      <th>2011</th>\n      <th>1</th>\n      <th>Monday</th>\n      <td>False</td>\n      <td>False</td>\n      <td>False</td>\n      <td>False</td>\n      <td>False</td>\n      <td>False</td>\n      <td>False</td>\n      <td>False</td>\n      <td>False</td>\n      <td>False</td>\n      <td>...</td>\n      <td>False</td>\n      <td>False</td>\n      <td>False</td>\n      <td>False</td>\n      <td>False</td>\n      <td>False</td>\n      <td>False</td>\n      <td>False</td>\n      <td>False</td>\n      <td>409</td>\n    </tr>\n    <tr>\n      <th>2011-02-01</th>\n      <th>2011</th>\n      <th>2</th>\n      <th>Tuesday</th>\n      <td>True</td>\n      <td>False</td>\n      <td>False</td>\n      <td>False</td>\n      <td>False</td>\n      <td>False</td>\n      <td>False</td>\n      <td>False</td>\n      <td>False</td>\n      <td>False</td>\n      <td>...</td>\n      <td>False</td>\n      <td>False</td>\n      <td>False</td>\n      <td>False</td>\n      <td>False</td>\n      <td>False</td>\n      <td>False</td>\n      <td>False</td>\n      <td>False</td>\n      <td>383</td>\n    </tr>\n    <tr>\n      <th>2011-02-02</th>\n      <th>2011</th>\n      <th>2</th>\n      <th>Wednesday</th>\n      <td>True</td>\n      <td>False</td>\n      <td>False</td>\n      <td>False</td>\n      <td>False</td>\n      <td>False</td>\n      <td>False</td>\n      <td>False</td>\n      <td>False</td>\n      <td>False</td>\n      <td>...</td>\n      <td>False</td>\n      <td>False</td>\n      <td>False</td>\n      <td>False</td>\n      <td>False</td>\n      <td>False</td>\n      <td>False</td>\n      <td>False</td>\n      <td>False</td>\n      <td>263</td>\n    </tr>\n    <tr>\n      <th>...</th>\n      <th>...</th>\n      <th>...</th>\n      <th>...</th>\n      <td>...</td>\n      <td>...</td>\n      <td>...</td>\n      <td>...</td>\n      <td>...</td>\n      <td>...</td>\n      <td>...</td>\n      <td>...</td>\n      <td>...</td>\n      <td>...</td>\n      <td>...</td>\n      <td>...</td>\n      <td>...</td>\n      <td>...</td>\n      <td>...</td>\n      <td>...</td>\n      <td>...</td>\n      <td>...</td>\n      <td>...</td>\n      <td>...</td>\n      <td>...</td>\n    </tr>\n    <tr>\n      <th>2016-06-15</th>\n      <th>2016</th>\n      <th>6</th>\n      <th>Wednesday</th>\n      <td>False</td>\n      <td>False</td>\n      <td>False</td>\n      <td>False</td>\n      <td>False</td>\n      <td>False</td>\n      <td>False</td>\n      <td>False</td>\n      <td>False</td>\n      <td>False</td>\n      <td>...</td>\n      <td>False</td>\n      <td>False</td>\n      <td>False</td>\n      <td>False</td>\n      <td>False</td>\n      <td>False</td>\n      <td>False</td>\n      <td>False</td>\n      <td>False</td>\n      <td>0</td>\n    </tr>\n    <tr>\n      <th>2016-06-16</th>\n      <th>2016</th>\n      <th>6</th>\n      <th>Thursday</th>\n      <td>False</td>\n      <td>False</td>\n      <td>False</td>\n      <td>False</td>\n      <td>False</td>\n      <td>False</td>\n      <td>False</td>\n      <td>False</td>\n      <td>False</td>\n      <td>False</td>\n      <td>...</td>\n      <td>False</td>\n      <td>False</td>\n      <td>False</td>\n      <td>False</td>\n      <td>False</td>\n      <td>False</td>\n      <td>False</td>\n      <td>False</td>\n      <td>False</td>\n      <td>0</td>\n    </tr>\n    <tr>\n      <th>2016-06-17</th>\n      <th>2016</th>\n      <th>6</th>\n      <th>Friday</th>\n      <td>False</td>\n      <td>False</td>\n      <td>False</td>\n      <td>False</td>\n      <td>False</td>\n      <td>False</td>\n      <td>False</td>\n      <td>False</td>\n      <td>False</td>\n      <td>False</td>\n      <td>...</td>\n      <td>False</td>\n      <td>False</td>\n      <td>False</td>\n      <td>False</td>\n      <td>False</td>\n      <td>False</td>\n      <td>False</td>\n      <td>False</td>\n      <td>False</td>\n      <td>0</td>\n    </tr>\n    <tr>\n      <th>2016-06-18</th>\n      <th>2016</th>\n      <th>6</th>\n      <th>Saturday</th>\n      <td>False</td>\n      <td>False</td>\n      <td>False</td>\n      <td>False</td>\n      <td>False</td>\n      <td>False</td>\n      <td>False</td>\n      <td>False</td>\n      <td>False</td>\n      <td>False</td>\n      <td>...</td>\n      <td>False</td>\n      <td>False</td>\n      <td>False</td>\n      <td>False</td>\n      <td>False</td>\n      <td>False</td>\n      <td>False</td>\n      <td>False</td>\n      <td>False</td>\n      <td>0</td>\n    </tr>\n    <tr>\n      <th>2016-06-19</th>\n      <th>2016</th>\n      <th>6</th>\n      <th>Sunday</th>\n      <td>False</td>\n      <td>True</td>\n      <td>False</td>\n      <td>False</td>\n      <td>True</td>\n      <td>False</td>\n      <td>False</td>\n      <td>False</td>\n      <td>False</td>\n      <td>False</td>\n      <td>...</td>\n      <td>False</td>\n      <td>True</td>\n      <td>False</td>\n      <td>False</td>\n      <td>False</td>\n      <td>False</td>\n      <td>False</td>\n      <td>False</td>\n      <td>False</td>\n      <td>0</td>\n    </tr>\n  </tbody>\n</table>\n<p>1969 rows × 36 columns</p>\n</div>"
     },
     "metadata": {},
     "execution_count": 5
    }
   ],
   "source": [
    "def make_aggregated_dataset():\n",
    "    # read in the combined dataset\n",
    "    df = \\\n",
    "    (pd.read_parquet(PROCESSED_DATA_PATH / 'combined_dataset.parquet')\n",
    "    .astype({c:'category' for c in ['wday','month','year']}))\n",
    "\n",
    "    # how will the columns be aggregated\n",
    "    to_agg = {'demand':'sum'}\n",
    "    to_agg.update({x:'first' for x in df.columns if x.startswith('event_') or x=='snap'})\n",
    "\n",
    "    # groupby everything except item_id and columns top aggregate\n",
    "    aggregated_sales = \\\n",
    "    (df\n",
    "    .groupby(['state_id','store_id','date','year','month','weekday','cat_id','dept_id'], observed=True)\n",
    "    .agg(to_agg)\n",
    "    .sort_index(axis=1))\n",
    "\n",
    "    # create a boolean calendar which can join the aggregated data\n",
    "    aggregated_calendar = \\\n",
    "    (aggregated_sales\n",
    "    .drop(columns=['demand'])\n",
    "    .groupby(['state_id','store_id','date','year','month','weekday'], observed=True)\n",
    "    .first())\n",
    "    \n",
    "    # add more levels to multiindex for intuitive indexing\n",
    "    aggregated_calendar = pd.concat(\n",
    "        [aggregated_calendar[['snap']],\n",
    "         aggregated_calendar[[x for x in aggregated_calendar.columns if x.startswith('event_type_')]],\n",
    "         aggregated_calendar[[x for x in aggregated_calendar.columns if x.startswith('event_name_')]]\n",
    "         ], keys=['snap','type','name'], axis=1)\n",
    "    \n",
    "    aggregated_calendar = pd.concat(\n",
    "        [aggregated_calendar[('snap','snap')],\n",
    "         aggregated_calendar[['type','name']]],\n",
    "        keys=['snap','events'], axis=1)\n",
    "    \n",
    "    # rename the columns to cutr off 'event_name_' and 'event_type_'\n",
    "    aggregated_calendar.rename(lambda col: col.split('_')[-1], axis='columns', inplace=True, level=2)\n",
    "\n",
    "    # unstack the category and department indices for more intuitive indexing\n",
    "    aggregated_sales = \\\n",
    "    (aggregated_sales\n",
    "    [['demand']]\n",
    "    .unstack(['cat_id','dept_id'], fill_value=0))\n",
    "\n",
    "    # join in the boolean calendar\n",
    "    aggregated_sales = \\\n",
    "    (aggregated_calendar\n",
    "    .join(aggregated_sales)\n",
    "    .sort_index(axis=1, ascending=False)\n",
    "    .sort_index(axis=0)\n",
    "    .pipe(reduce_memory_usage))\n",
    "\n",
    "    aggregated_sales.to_pickle(PROCESSED_DATA_PATH / 'aggregated_dataset.pickle')\n",
    "\n",
    "df = make_aggregated_dataset()\n",
    "df"
   ]
  }
 ]
}